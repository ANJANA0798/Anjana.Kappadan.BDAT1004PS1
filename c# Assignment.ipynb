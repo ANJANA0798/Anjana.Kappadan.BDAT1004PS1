{
 "cells": [
  {
   "cell_type": "markdown",
   "id": "67e23783",
   "metadata": {},
   "source": [
    "1. What data type is each of the following?\n",
    "5 : INTEGER\n",
    "5.0 : DOUBLE\n",
    "5 >1 : BOOLEAN\n",
    "'5' : STRING\n",
    "5 * 2 : INTEGER\n",
    "'5' + '2' : STRING\n",
    "5/2 : INTEGER\n",
    "5%2 : INTEGER\n",
    "{5,2,1} : INT[] (ARRAY)\n",
    "5==3 : BOOLEAN\n",
    "Pi : DOUBLE"
   ]
  },
  {
   "cell_type": "markdown",
   "id": "02857869",
   "metadata": {},
   "source": [
    " 2. Write (and evaluate) C# expressions that answer these question?"
   ]
  },
  {
   "cell_type": "code",
   "execution_count": 3,
   "id": "baaec3dc",
   "metadata": {},
   "outputs": [
    {
     "name": "stdout",
     "output_type": "stream",
     "text": [
      "The number of elements : 34\r\n"
     ]
    }
   ],
   "source": [
    "string a=  \"Supercalifragilisticexpialidocious\";\n",
    "int length = a.Length;\n",
    "Console.WriteLine(\"The number of elements : \" + length)"
   ]
  },
  {
   "cell_type": "markdown",
   "id": "f8c7fbdd",
   "metadata": {},
   "source": [
    "b. Does 'Supercalifragilisticexpialidocious' contain 'ice' as a substring?"
   ]
  },
  {
   "cell_type": "code",
   "execution_count": 4,
   "id": "7e5e7851",
   "metadata": {},
   "outputs": [
    {
     "name": "stdout",
     "output_type": "stream",
     "text": [
      "True\r\n"
     ]
    }
   ],
   "source": [
    "string x= \"Supercalifragilisticexpialidocious\";\n",
    "bool y= x.Contains(\"ice\");\n",
    "Console.WriteLine(y)"
   ]
  },
  {
   "cell_type": "markdown",
   "id": "b3443370",
   "metadata": {},
   "source": [
    "c. Which of the following words is the longest:Supercalifragilisticexpialidocious, Honorificabilitudinitatibus, orBababadalgharaghtakamminarronnkonn ?"
   ]
  },
  {
   "cell_type": "code",
   "execution_count": 10,
   "id": "8c3718e7",
   "metadata": {},
   "outputs": [
    {
     "name": "stdout",
     "output_type": "stream",
     "text": [
      "the longest word is Bababadalgharaghtakamminarronnkonn\r\n"
     ]
    }
   ],
   "source": [
    "string a= \"Supercalifragilisticexpialidocious\";\n",
    "string b=   \"Honorificabilitudinitatibus\";\n",
    "string c= \"Bababadalgharaghtakamminarronnkonn\";\n",
    "int lengthOf_a = a.Length;\n",
    "int lengthOf_b = b.Length;\n",
    "int lengthOf_c = c.Length;\n",
    "if ( lengthOf_a >  lengthOf_b && lengthOf_a > lengthOf_c )\n",
    "{\n",
    "Console.WriteLine(\"the longest word is \"+ a);\n",
    "}\n",
    "else if ( lengthOf_b> lengthOf_a &&  lengthOf_b >  lengthOf_c)\n",
    "{\n",
    "Console.WriteLine(\" the longest word is \" + b);\n",
    "}\n",
    "else\n",
    "{\n",
    "Console.WriteLine(\"the longest word is \" + c);\n",
    "}\n"
   ]
  },
  {
   "cell_type": "markdown",
   "id": "75de2182",
   "metadata": {},
   "source": [
    " d.Which composer comes first in the dictionary: 'Berlioz', 'Borodin', 'Brian','Bartok', 'Bellini', 'Buxtehude', 'Bernstein'. Which one comes last?"
   ]
  },
  {
   "cell_type": "code",
   "execution_count": 3,
   "id": "dce4dbfc",
   "metadata": {},
   "outputs": [
    {
     "name": "stdout",
     "output_type": "stream",
     "text": [
      "the first composer  is Bartok\n",
      " the last composer is Buxtehude\n"
     ]
    }
   ],
   "source": [
    "string[] composers = {\"Berlioz\", \"Borodin\", \"Brian\",\"Bartok\", \"Bellini\", \"Buxtehude\", \"Bernstein\"};\n",
    "Array.Sort(composers);\n",
    "string X = composers[0];\n",
    "string Y = composers[composers.Length - 1];\n",
    "Console.WriteLine( \"the first composer  is \" + X);\n",
    "Console.WriteLine(\" the last composer is \" + Y)\n",
    "\n",
    " \n"
   ]
  },
  {
   "cell_type": "markdown",
   "id": "a3603892",
   "metadata": {},
   "source": [
    "3.Implement function triangleArea(a,b,c) that takes as input the lengths of the 3sides of a triangle and returns the area of the triangle. By Heron's formula, the areaof a triangle with side lengths a, b, and c is s(s - a)(s - b)(s - c) , wheres = (a + b + c) /2?"
   ]
  },
  {
   "cell_type": "code",
   "execution_count": 32,
   "id": "4051f613",
   "metadata": {
    "scrolled": true
   },
   "outputs": [
    {
     "name": "stdout",
     "output_type": "stream",
     "text": [
      "The area of the triangle is: 1.7320508075688772\r\n"
     ]
    }
   ],
   "source": [
    "\n",
    "\n",
    "int side_a = 2;\n",
    "int side_b = 2;\n",
    "int side_c = 2;\n",
    "\n",
    "int s = (side_a + side_b + side_c) / 2;\n",
    "\n",
    "double area = (double)Math.Sqrt(s * (s - side_a) * (s - side_b) * (s - side_c)); // Calculate the area using Heron's formula\n",
    "\n",
    "Console.WriteLine(\"The area of the triangle is: \" + area);\n"
   ]
  },
  {
   "cell_type": "markdown",
   "id": "5484ac5b",
   "metadata": {},
   "source": [
    "4.Write a program in C# Sharp to separate odd and even integers in separate arrays ?"
   ]
  },
  {
   "cell_type": "code",
   "execution_count": 38,
   "id": "fbc5514f",
   "metadata": {},
   "outputs": [
    {
     "name": "stdout",
     "output_type": "stream",
     "text": [
      "Original array: 25, 47, 42, 32, 56\n",
      "Even numbers: 42, 32, 56\n",
      "Odd numbers: 25, 47\n"
     ]
    }
   ],
   "source": [
    "int[] numbers ={25,47,42,32,56};\n",
    "\n",
    "int[] evenNumbers = new int[numbers.Length];\n",
    "int[] oddNumbers = new int[numbers.Length];\n",
    "\n",
    "int evenCount = 0;\n",
    "int oddCount = 0;\n",
    "\n",
    "foreach (int n in numbers)\n",
    "{\n",
    "    if (n % 2 == 0)\n",
    "    {\n",
    "        evenNumbers[evenCount] = n;\n",
    "        evenCount++;\n",
    "    }\n",
    "     else\n",
    "     {\n",
    "       oddNumbers[oddCount] = n;\n",
    "       oddCount++;\n",
    "     }\n",
    " }\n",
    "\n",
    " // Resize the arrays to fit the actual number of elements\n",
    " Array.Resize(ref evenNumbers, evenCount);\n",
    " Array.Resize(ref oddNumbers, oddCount);\n",
    " \n",
    "Console.WriteLine(\"Original array: \" + string.Join(\", \", numbers));\n",
    "Console.WriteLine(\"Even numbers: \" + string.Join(\", \", evenNumbers));\n",
    "Console.WriteLine(\"Odd numbers: \" + string.Join(\", \", oddNumbers));\n",
    "\n"
   ]
  },
  {
   "cell_type": "markdown",
   "id": "9d31b128",
   "metadata": {},
   "source": [
    "5.a.Write a function inside(x,y,x1,y1,x2,y2) that returns True or Falsedepending on whether the point (x,y) lies in the rectangle with lower leftcorner (x1,y1) and upper right corner (x2,y2)"
   ]
  },
  {
   "cell_type": "code",
   "execution_count": 1,
   "id": "aaf5ddd3",
   "metadata": {},
   "outputs": [
    {
     "name": "stdout",
     "output_type": "stream",
     "text": [
      "Inside (1, 1, 0, 0, 2, 3): True\n",
      "Inside (-1, -1, 0, 0, 2, 3): False\n"
     ]
    }
   ],
   "source": [
    "static bool Inside(double x, double y, double x1, double y1, double x2, double y2)\n",
    "{\n",
    "    return (x >= x1 && x <= x2 && y >= y1 && y <= y2);\n",
    "}\n",
    "\n",
    "bool insideRectangle1 = Inside(1, 1, 0, 0, 2, 3);\n",
    "bool insideRectangle2 = Inside(-1, -1, 0, 0, 2, 3);\n",
    "\n",
    "if (insideRectangle1)\n",
    "{\n",
    "    Console.WriteLine(\"Inside (1, 1, 0, 0, 2, 3): True\");\n",
    "}\n",
    "else\n",
    "{\n",
    "    Console.WriteLine(\"Inside (1, 1, 0, 0, 2, 3): False\");\n",
    "}\n",
    "\n",
    "if (insideRectangle2)\n",
    "{\n",
    "    Console.WriteLine(\"Inside (-1, -1, 0, 0, 2, 3): True\");\n",
    "}\n",
    "else\n",
    "{\n",
    "    Console.WriteLine(\"Inside (-1, -1, 0, 0, 2, 3): False\");\n",
    "}"
   ]
  },
  {
   "cell_type": "markdown",
   "id": "f4ac39d1",
   "metadata": {},
   "source": [
    "b.Use function inside() from part a. to write an expression that tests whetherthe point (1,1) lies in both of the following rectangles: one with lower leftcorner (0.3, 0.5) and upper right corner (1.1, 0.7) and the other with lowerleft corner (0.5, 0.2) and upper right corner (1.1, 2)."
   ]
  },
  {
   "cell_type": "code",
   "execution_count": 2,
   "id": "a9b686c4",
   "metadata": {},
   "outputs": [
    {
     "name": "stdout",
     "output_type": "stream",
     "text": [
      "Is (1, 1) inside the first rectangle False\n",
      "Is (1, 1) inside the second rectangle True\n"
     ]
    }
   ],
   "source": [
    "public static bool Inside(double x, double y, double x1, double y1, double x2, double y2)\n",
    "{\n",
    "    return x >= x1 && x <= x2 && y >= y1 && y <= y2;\n",
    "}\n",
    "bool isInsideRect1 = Inside(1, 1, 0.3, 0.5, 1.1, 0.7);\n",
    "bool isInsideRect2 = Inside(1, 1, 0.5, 0.2, 1.1, 2);\n",
    "\n",
    "Console.WriteLine(\"Is (1, 1) inside the first rectangle \" + isInsideRect1);\n",
    "Console.WriteLine(\"Is (1, 1) inside the second rectangle \" + isInsideRect2);"
   ]
  },
  {
   "cell_type": "code",
   "execution_count": null,
   "id": "0431ece2",
   "metadata": {},
   "outputs": [],
   "source": []
  }
 ],
 "metadata": {
  "kernelspec": {
   "display_name": ".NET (C#)",
   "language": "C#",
   "name": ".net-csharp"
  },
  "language_info": {
   "file_extension": ".cs",
   "mimetype": "text/x-csharp",
   "name": "C#",
   "pygments_lexer": "csharp",
   "version": "8.0"
  }
 },
 "nbformat": 4,
 "nbformat_minor": 5
}
