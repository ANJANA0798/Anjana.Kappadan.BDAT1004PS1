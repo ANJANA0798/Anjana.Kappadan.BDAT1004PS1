{
 "cells": [
  {
   "cell_type": "markdown",
   "id": "1f3694f6",
   "metadata": {},
   "source": [
    "6. You can turn a word into pig-Latin using the following two rules (simplified):• If the word starts with a consonant, move that letter to the end and append'ay'. For example, 'happy' becomes 'appyhay' and 'pencil' becomes 'encilpay'.• If the word starts with a vowel, simply append 'way' to the end of the word.For example, 'enter' becomes 'enterway' and 'other' becomes 'otherway' . Forour purposes, there are 5 vowels: a, e, i, o, u (so we count y as a consonant).Write a function pig() that takes a word (i.e., a string) as input and returns its pig-Latin form. Your function should still work if the input word contains upper casecharacters. Your output should always be lower case however."
   ]
  },
  {
   "cell_type": "code",
   "execution_count": 4,
   "id": "5da72e68",
   "metadata": {},
   "outputs": [],
   "source": [
    "def pig_latin_converter(word):\n",
    "    X = word.lower()\n",
    "    if X[0] in [\"a\",\"e\",\"i\",\"o\",\"u\",\"A\",\"E\",\"I\",\"O\",\"U\"]:\n",
    "        a=X.append(\"way\")\n",
    "         print(\"pig latin word is\",a)\n",
    "   \n",
    "    else:\n",
    "        print(\"pig latin word is\",X[1:]+ X[0]+'ay')\n"
   ]
  },
  {
   "cell_type": "code",
   "execution_count": 5,
   "id": "0cb6bde2",
   "metadata": {},
   "outputs": [
    {
     "name": "stdout",
     "output_type": "stream",
     "text": [
      "pig latin word is appleway\n"
     ]
    }
   ],
   "source": [
    "pig_latin_converter(\"apple\")"
   ]
  },
  {
   "cell_type": "code",
   "execution_count": 6,
   "id": "9ecf7f04",
   "metadata": {},
   "outputs": [
    {
     "name": "stdout",
     "output_type": "stream",
     "text": [
      "pig latin word is adbay\n"
     ]
    }
   ],
   "source": [
    " pig_latin_converter(\"bad\")"
   ]
  },
  {
   "cell_type": "code",
   "execution_count": 7,
   "id": "af89aeb4",
   "metadata": {},
   "outputs": [
    {
     "name": "stdout",
     "output_type": "stream",
     "text": [
      "pig latin word is appleway\n"
     ]
    }
   ],
   "source": [
    "pig_latin_converter(\"APPLE\")"
   ]
  },
  {
   "cell_type": "markdown",
   "id": "964afc24",
   "metadata": {},
   "source": [
    "7.File bloodtype1.txt records blood-types of patients (A, B, AB, O or OO) at a clinic.Write a function bldcount() that reads the file with name name and reports (i.e.,prints) how many patients there are in each bloodtype."
   ]
  },
  {
   "cell_type": "code",
   "execution_count": 25,
   "id": "95566eba",
   "metadata": {},
   "outputs": [],
   "source": [
    "def BLOOD_COUNT(string):\n",
    "    \n",
    "    A,B,AB,O,OO=0,0,0,0,0\n",
    "    i=0\n",
    "    #to open and read a file\n",
    "    f=open(string,'r')\n",
    "    word = f.read()\n",
    "    count = word.split()\n",
    "    # get the count of blood type\n",
    "    while i < len(count):\n",
    "        if count[i]=='A':\n",
    "            A+=1\n",
    "        elif count[i]=='B':\n",
    "            B+=1\n",
    "        elif count[i]=='AB':\n",
    "            AB+=1\n",
    "        elif count[i]=='O':\n",
    "            O+=1\n",
    "        elif count[i]=='OO':\n",
    "            OO+=1\n",
    "        i+=1\n",
    "    print(' {} patients are of blood type A'.format(A))\n",
    "    print(' {} patients are of blood type B'.format(B))\n",
    "    print(' {} patients are of blood type AB'.format(AB))\n",
    "    print(' {} patients are of blood type O'.format(O))\n",
    "    print(' {} patients are of blood type OO'.format(OO))"
   ]
  },
  {
   "cell_type": "code",
   "execution_count": 27,
   "id": "ae05d09c",
   "metadata": {},
   "outputs": [
    {
     "ename": "FileNotFoundError",
     "evalue": "[Errno 2] No such file or directory: 'bloodtype1.txt'",
     "output_type": "error",
     "traceback": [
      "\u001b[1;31m---------------------------------------------------------------------------\u001b[0m",
      "\u001b[1;31mFileNotFoundError\u001b[0m                         Traceback (most recent call last)",
      "Cell \u001b[1;32mIn[27], line 1\u001b[0m\n\u001b[1;32m----> 1\u001b[0m BLOOD_COUNT(\u001b[38;5;124m\"\u001b[39m\u001b[38;5;124mbloodtype1.txt\u001b[39m\u001b[38;5;124m\"\u001b[39m)\n",
      "Cell \u001b[1;32mIn[25], line 6\u001b[0m, in \u001b[0;36mBLOOD_COUNT\u001b[1;34m(string)\u001b[0m\n\u001b[0;32m      4\u001b[0m i\u001b[38;5;241m=\u001b[39m\u001b[38;5;241m0\u001b[39m\n\u001b[0;32m      5\u001b[0m \u001b[38;5;66;03m#to open and read a file\u001b[39;00m\n\u001b[1;32m----> 6\u001b[0m f\u001b[38;5;241m=\u001b[39m\u001b[38;5;28mopen\u001b[39m(string,\u001b[38;5;124m'\u001b[39m\u001b[38;5;124mr\u001b[39m\u001b[38;5;124m'\u001b[39m)\n\u001b[0;32m      7\u001b[0m word \u001b[38;5;241m=\u001b[39m f\u001b[38;5;241m.\u001b[39mread()\n\u001b[0;32m      8\u001b[0m count \u001b[38;5;241m=\u001b[39m word\u001b[38;5;241m.\u001b[39msplit()\n",
      "File \u001b[1;32mC:\\Anaconda3\\Lib\\site-packages\\IPython\\core\\interactiveshell.py:284\u001b[0m, in \u001b[0;36m_modified_open\u001b[1;34m(file, *args, **kwargs)\u001b[0m\n\u001b[0;32m    277\u001b[0m \u001b[38;5;28;01mif\u001b[39;00m file \u001b[38;5;129;01min\u001b[39;00m {\u001b[38;5;241m0\u001b[39m, \u001b[38;5;241m1\u001b[39m, \u001b[38;5;241m2\u001b[39m}:\n\u001b[0;32m    278\u001b[0m     \u001b[38;5;28;01mraise\u001b[39;00m \u001b[38;5;167;01mValueError\u001b[39;00m(\n\u001b[0;32m    279\u001b[0m         \u001b[38;5;124mf\u001b[39m\u001b[38;5;124m\"\u001b[39m\u001b[38;5;124mIPython won\u001b[39m\u001b[38;5;124m'\u001b[39m\u001b[38;5;124mt let you open fd=\u001b[39m\u001b[38;5;132;01m{\u001b[39;00mfile\u001b[38;5;132;01m}\u001b[39;00m\u001b[38;5;124m by default \u001b[39m\u001b[38;5;124m\"\u001b[39m\n\u001b[0;32m    280\u001b[0m         \u001b[38;5;124m\"\u001b[39m\u001b[38;5;124mas it is likely to crash IPython. If you know what you are doing, \u001b[39m\u001b[38;5;124m\"\u001b[39m\n\u001b[0;32m    281\u001b[0m         \u001b[38;5;124m\"\u001b[39m\u001b[38;5;124myou can use builtins\u001b[39m\u001b[38;5;124m'\u001b[39m\u001b[38;5;124m open.\u001b[39m\u001b[38;5;124m\"\u001b[39m\n\u001b[0;32m    282\u001b[0m     )\n\u001b[1;32m--> 284\u001b[0m \u001b[38;5;28;01mreturn\u001b[39;00m io_open(file, \u001b[38;5;241m*\u001b[39margs, \u001b[38;5;241m*\u001b[39m\u001b[38;5;241m*\u001b[39mkwargs)\n",
      "\u001b[1;31mFileNotFoundError\u001b[0m: [Errno 2] No such file or directory: 'bloodtype1.txt'"
     ]
    }
   ],
   "source": [
    "BLOOD_COUNT(\"bloodtype1.txt\")"
   ]
  },
  {
   "cell_type": "markdown",
   "id": "91ff206f",
   "metadata": {},
   "source": [
    "8.Write a function curconv() that takes as input:1. a currency represented using a string (e.g., 'JPY' for the Japanese Yen or'EUR' for the Euro)2. an amountand then converts and returns the amount in US dollars"
   ]
  },
  {
   "cell_type": "code",
   "execution_count": 19,
   "id": "4aebffec",
   "metadata": {},
   "outputs": [],
   "source": [
    "def currency_converter(cur,amt):\n",
    "    converter = {'AUD': 1.0345157,\n",
    "                'CHF':1.0237414 ,\n",
    "                'CNY':0.1550176,\n",
    "                'DKK':0.1651442,\n",
    "                'EUR':1.2296544 ,\n",
    "                'GBP':1.5550989,\n",
    "                'HKD':0.1270207, \n",
    "                'INR':0.0177643, \n",
    "                'JPY':0.01241401, \n",
    "                'MXN':0.0751848,\n",
    "                'MYR':0.3145411, \n",
    "                'NOK':0.1677063,\n",
    "                'NZD':0.8003591,\n",
    "                'PHP':0.0233234,\n",
    "                'SEK':0.148269,\n",
    "                'SGD':0.788871,\n",
    "                'THB':0.0313789}\n",
    "   \n",
    "    if cur in converter:\n",
    "        usdconv = converter[cur]*amt\n",
    "        \n",
    "    return usdconv"
   ]
  },
  {
   "cell_type": "code",
   "execution_count": 20,
   "id": "3bc4389c",
   "metadata": {},
   "outputs": [
    {
     "data": {
      "text/plain": [
       "3.13789"
      ]
     },
     "execution_count": 20,
     "metadata": {},
     "output_type": "execute_result"
    }
   ],
   "source": [
    " currency_converter('THB',100)"
   ]
  },
  {
   "cell_type": "markdown",
   "id": "82a2dd75",
   "metadata": {},
   "source": [
    "9.Each of the following will cause an exception (an error). Identify what type ofexception each will cause"
   ]
  },
  {
   "cell_type": "markdown",
   "id": "49e597ad",
   "metadata": {},
   "source": [
    "1.Trying to add incompatible variables, as in adding 6 + ‘a’\n",
    "> TypeError   -   can only concatenate str (not \"int\") to str (type error)"
   ]
  },
  {
   "cell_type": "markdown",
   "id": "c7a268d9",
   "metadata": {},
   "source": [
    "2.Referring to the 12th item of a list that has only 10 items\n",
    ">IndexError - list index out of range"
   ]
  },
  {
   "cell_type": "markdown",
   "id": "c9f29f45",
   "metadata": {},
   "source": [
    "3.Using a value that is out of range for a function’sinput, such as calling math.sqrt(-1.0)\n",
    "> ValueError  -  math domain error"
   ]
  },
  {
   "cell_type": "markdown",
   "id": "bf47a1b4",
   "metadata": {},
   "source": [
    "4.Using an undeclared variable, such as print(x) when x has not been defined\n",
    ">NameError: name 'c' is not defined\n"
   ]
  },
  {
   "cell_type": "markdown",
   "id": "d2ea01cf",
   "metadata": {},
   "source": [
    "5.Trying to open a file that does not exist, such as mistyping the file name or looking in the wrong directory.\n",
    ">FileNotFoundError"
   ]
  },
  {
   "cell_type": "markdown",
   "id": "0563028c",
   "metadata": {},
   "source": [
    "10.Encryption is the process of hiding the meaning of a text by substituting letters in themessage with other letters, according to some system. If the process is successful, noone but the intended recipient can understand the encrypted message. Cryptanalysisrefers to attempts to undo the encryption, even if some details of the encryption areunknown (for example, if an encrypted message has been intercepted). The first stepof cryptanalysis is often to build up a table of letter frequencies in the encrypted text.Assume that the string letters is already defined as'abcdefghijklmnopqrstuvwxyz'. Write a function called frequencies()that takes a string as its only parameter, and returns a list of integers, showing thenumber of times each character appears in the text. Your function may ignore anycharacters that are not in letter"
   ]
  },
  {
   "cell_type": "code",
   "execution_count": 30,
   "id": "ff8abf2c",
   "metadata": {},
   "outputs": [],
   "source": [
    "def frequencies(TEXT):\n",
    "    # Define the characters to count\n",
    "    letters = 'abcdefghijklmnopqrstuvwxyz'\n",
    "    \n",
    "    # Create a list to store the frequencies of each character\n",
    "    frequency_list = [0] * len(letters)\n",
    "    \n",
    "    # Convert the input string to lowercase to ensure case insensitivity\n",
    "    TEXT = TEXT.lower()\n",
    "    \n",
    "    # Iterate through the characters in the input string\n",
    "    for char in TEXT:\n",
    "        if char in letters:\n",
    "            # Increment the corresponding frequency count\n",
    "            index = letters.index(char)\n",
    "            frequency_list[index] += 1\n",
    "    \n",
    "    return frequency_list\n",
    "\n"
   ]
  },
  {
   "cell_type": "code",
   "execution_count": 32,
   "id": "44740a76",
   "metadata": {},
   "outputs": [
    {
     "data": {
      "text/plain": [
       "[4, 0, 0, 1, 1, 0, 3, 0, 2, 0, 0, 0, 2, 3, 1, 1, 0, 2, 2, 2, 0, 0, 0, 0, 0, 0]"
      ]
     },
     "execution_count": 32,
     "metadata": {},
     "output_type": "execute_result"
    }
   ],
   "source": [
    " frequencies('data programing assignment')"
   ]
  },
  {
   "cell_type": "code",
   "execution_count": null,
   "id": "1eab48d5",
   "metadata": {},
   "outputs": [],
   "source": []
  },
  {
   "cell_type": "code",
   "execution_count": null,
   "id": "6d0289e9",
   "metadata": {},
   "outputs": [],
   "source": []
  }
 ],
 "metadata": {
  "kernelspec": {
   "display_name": "Python 3 (ipykernel)",
   "language": "python",
   "name": "python3"
  },
  "language_info": {
   "codemirror_mode": {
    "name": "ipython",
    "version": 3
   },
   "file_extension": ".py",
   "mimetype": "text/x-python",
   "name": "python",
   "nbconvert_exporter": "python",
   "pygments_lexer": "ipython3",
   "version": "3.11.4"
  }
 },
 "nbformat": 4,
 "nbformat_minor": 5
}
